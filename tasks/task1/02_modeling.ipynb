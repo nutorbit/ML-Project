{
 "cells": [
  {
   "cell_type": "code",
   "execution_count": 1,
   "metadata": {},
   "outputs": [],
   "source": [
    "import pandas as pd\n",
    "import numpy as np\n",
    "import pickle\n",
    "import warnings\n",
    "\n",
    "from collections import Counter\n",
    "from xgboost import XGBClassifier\n",
    "from sklearn.linear_model import LogisticRegression\n",
    "from sklearn.neighbors import KNeighborsClassifier\n",
    "from sklearn.tree import DecisionTreeClassifier\n",
    "from sklearn.ensemble import RandomForestClassifier, GradientBoostingClassifier\n",
    "from sklearn.svm import SVC\n",
    "from sklearn.model_selection import train_test_split, cross_val_score\n",
    "from sklearn.metrics import accuracy_score, classification_report, f1_score, precision_score, recall_score, confusion_matrix\n",
    "\n",
    "from IPython.core.interactiveshell import InteractiveShell\n",
    "warnings.filterwarnings('ignore')\n",
    "InteractiveShell.ast_node_interactivity = 'all'"
   ]
  },
  {
   "cell_type": "code",
   "execution_count": 2,
   "metadata": {},
   "outputs": [],
   "source": [
    "cat_feat = pickle.load(open('./data/01_cat_feat.pkl', 'rb'))\n",
    "num_feat = pickle.load(open('./data/01_num_feat.pkl', 'rb'))\n",
    "comb_feat = pickle.load(open('./data/01_comb_feat.pkl', 'rb'))\n",
    "target = pickle.load(open('./data/01_target.pkl', 'rb'))"
   ]
  },
  {
   "cell_type": "markdown",
   "metadata": {},
   "source": [
    "# Baseline model"
   ]
  },
  {
   "cell_type": "markdown",
   "metadata": {},
   "source": [
    "## validation"
   ]
  },
  {
   "cell_type": "code",
   "execution_count": 3,
   "metadata": {},
   "outputs": [],
   "source": [
    "def validation(X_all, y_all, models):\n",
    "    \n",
    "    X_train, X_test, y_train, y_test = train_test_split(comb_feat, target, stratify=target, test_size=0.1, random_state=100)\n",
    "    \n",
    "    res = []\n",
    "    \n",
    "    for model_class in models:\n",
    "        model = model_class()\n",
    "        model_name = model.__class__.__name__\n",
    "        \n",
    "        cv_score = cross_val_score(model, X_all, y_all, cv=10)\n",
    "        \n",
    "        model = model_class()\n",
    "        _ = model.fit(X_train, y_train)\n",
    "        pred =model.predict(X_test)\n",
    "        \n",
    "        acc = accuracy_score(y_test, pred)\n",
    "        f1 = f1_score(y_test, pred)\n",
    "        precision = precision_score(y_test, pred)\n",
    "        recall = recall_score(y_test, pred)\n",
    "        \n",
    "        res.append({\n",
    "            \"model\": model_name,\n",
    "            \"cv_score\": cv_score.mean(),\n",
    "            \"acc\": acc,\n",
    "            \"f1\": f1,\n",
    "            \"precision\": precision,\n",
    "            \"recall\": recall\n",
    "        })\n",
    "        \n",
    "    return res"
   ]
  },
  {
   "cell_type": "code",
   "execution_count": 4,
   "metadata": {},
   "outputs": [],
   "source": [
    "models = [SVC, XGBClassifier, LogisticRegression, KNeighborsClassifier, DecisionTreeClassifier, RandomForestClassifier, GradientBoostingClassifier]"
   ]
  },
  {
   "cell_type": "markdown",
   "metadata": {},
   "source": [
    "* combine features"
   ]
  },
  {
   "cell_type": "code",
   "execution_count": 5,
   "metadata": {},
   "outputs": [
    {
     "data": {
      "text/html": [
       "<div>\n",
       "<style scoped>\n",
       "    .dataframe tbody tr th:only-of-type {\n",
       "        vertical-align: middle;\n",
       "    }\n",
       "\n",
       "    .dataframe tbody tr th {\n",
       "        vertical-align: top;\n",
       "    }\n",
       "\n",
       "    .dataframe thead th {\n",
       "        text-align: right;\n",
       "    }\n",
       "</style>\n",
       "<table border=\"1\" class=\"dataframe\">\n",
       "  <thead>\n",
       "    <tr style=\"text-align: right;\">\n",
       "      <th></th>\n",
       "      <th>model</th>\n",
       "      <th>cv_score</th>\n",
       "      <th>acc</th>\n",
       "      <th>f1</th>\n",
       "      <th>precision</th>\n",
       "      <th>recall</th>\n",
       "    </tr>\n",
       "  </thead>\n",
       "  <tbody>\n",
       "    <tr>\n",
       "      <th>0</th>\n",
       "      <td>SVC</td>\n",
       "      <td>0.854624</td>\n",
       "      <td>0.903226</td>\n",
       "      <td>0.914286</td>\n",
       "      <td>0.888889</td>\n",
       "      <td>0.941176</td>\n",
       "    </tr>\n",
       "    <tr>\n",
       "      <th>1</th>\n",
       "      <td>XGBClassifier</td>\n",
       "      <td>0.788065</td>\n",
       "      <td>0.838710</td>\n",
       "      <td>0.864865</td>\n",
       "      <td>0.800000</td>\n",
       "      <td>0.941176</td>\n",
       "    </tr>\n",
       "    <tr>\n",
       "      <th>2</th>\n",
       "      <td>LogisticRegression</td>\n",
       "      <td>0.844624</td>\n",
       "      <td>0.903226</td>\n",
       "      <td>0.914286</td>\n",
       "      <td>0.888889</td>\n",
       "      <td>0.941176</td>\n",
       "    </tr>\n",
       "    <tr>\n",
       "      <th>3</th>\n",
       "      <td>KNeighborsClassifier</td>\n",
       "      <td>0.811828</td>\n",
       "      <td>0.806452</td>\n",
       "      <td>0.823529</td>\n",
       "      <td>0.823529</td>\n",
       "      <td>0.823529</td>\n",
       "    </tr>\n",
       "    <tr>\n",
       "      <th>4</th>\n",
       "      <td>DecisionTreeClassifier</td>\n",
       "      <td>0.718925</td>\n",
       "      <td>0.838710</td>\n",
       "      <td>0.864865</td>\n",
       "      <td>0.800000</td>\n",
       "      <td>0.941176</td>\n",
       "    </tr>\n",
       "    <tr>\n",
       "      <th>5</th>\n",
       "      <td>RandomForestClassifier</td>\n",
       "      <td>0.844839</td>\n",
       "      <td>0.870968</td>\n",
       "      <td>0.888889</td>\n",
       "      <td>0.842105</td>\n",
       "      <td>0.941176</td>\n",
       "    </tr>\n",
       "    <tr>\n",
       "      <th>6</th>\n",
       "      <td>GradientBoostingClassifier</td>\n",
       "      <td>0.807849</td>\n",
       "      <td>0.870968</td>\n",
       "      <td>0.888889</td>\n",
       "      <td>0.842105</td>\n",
       "      <td>0.941176</td>\n",
       "    </tr>\n",
       "  </tbody>\n",
       "</table>\n",
       "</div>"
      ],
      "text/plain": [
       "                        model  cv_score       acc        f1  precision  \\\n",
       "0                         SVC  0.854624  0.903226  0.914286   0.888889   \n",
       "1               XGBClassifier  0.788065  0.838710  0.864865   0.800000   \n",
       "2          LogisticRegression  0.844624  0.903226  0.914286   0.888889   \n",
       "3        KNeighborsClassifier  0.811828  0.806452  0.823529   0.823529   \n",
       "4      DecisionTreeClassifier  0.718925  0.838710  0.864865   0.800000   \n",
       "5      RandomForestClassifier  0.844839  0.870968  0.888889   0.842105   \n",
       "6  GradientBoostingClassifier  0.807849  0.870968  0.888889   0.842105   \n",
       "\n",
       "     recall  \n",
       "0  0.941176  \n",
       "1  0.941176  \n",
       "2  0.941176  \n",
       "3  0.823529  \n",
       "4  0.941176  \n",
       "5  0.941176  \n",
       "6  0.941176  "
      ]
     },
     "execution_count": 5,
     "metadata": {},
     "output_type": "execute_result"
    }
   ],
   "source": [
    "pd.DataFrame(validation(comb_feat, target, models))"
   ]
  },
  {
   "cell_type": "markdown",
   "metadata": {},
   "source": [
    "* categorical features"
   ]
  },
  {
   "cell_type": "code",
   "execution_count": 6,
   "metadata": {},
   "outputs": [
    {
     "data": {
      "text/html": [
       "<div>\n",
       "<style scoped>\n",
       "    .dataframe tbody tr th:only-of-type {\n",
       "        vertical-align: middle;\n",
       "    }\n",
       "\n",
       "    .dataframe tbody tr th {\n",
       "        vertical-align: top;\n",
       "    }\n",
       "\n",
       "    .dataframe thead th {\n",
       "        text-align: right;\n",
       "    }\n",
       "</style>\n",
       "<table border=\"1\" class=\"dataframe\">\n",
       "  <thead>\n",
       "    <tr style=\"text-align: right;\">\n",
       "      <th></th>\n",
       "      <th>model</th>\n",
       "      <th>cv_score</th>\n",
       "      <th>acc</th>\n",
       "      <th>f1</th>\n",
       "      <th>precision</th>\n",
       "      <th>recall</th>\n",
       "    </tr>\n",
       "  </thead>\n",
       "  <tbody>\n",
       "    <tr>\n",
       "      <th>0</th>\n",
       "      <td>SVC</td>\n",
       "      <td>0.851075</td>\n",
       "      <td>0.903226</td>\n",
       "      <td>0.914286</td>\n",
       "      <td>0.888889</td>\n",
       "      <td>0.941176</td>\n",
       "    </tr>\n",
       "    <tr>\n",
       "      <th>1</th>\n",
       "      <td>XGBClassifier</td>\n",
       "      <td>0.831183</td>\n",
       "      <td>0.838710</td>\n",
       "      <td>0.864865</td>\n",
       "      <td>0.800000</td>\n",
       "      <td>0.941176</td>\n",
       "    </tr>\n",
       "    <tr>\n",
       "      <th>2</th>\n",
       "      <td>LogisticRegression</td>\n",
       "      <td>0.834409</td>\n",
       "      <td>0.903226</td>\n",
       "      <td>0.914286</td>\n",
       "      <td>0.888889</td>\n",
       "      <td>0.941176</td>\n",
       "    </tr>\n",
       "    <tr>\n",
       "      <th>3</th>\n",
       "      <td>KNeighborsClassifier</td>\n",
       "      <td>0.828280</td>\n",
       "      <td>0.806452</td>\n",
       "      <td>0.823529</td>\n",
       "      <td>0.823529</td>\n",
       "      <td>0.823529</td>\n",
       "    </tr>\n",
       "    <tr>\n",
       "      <th>4</th>\n",
       "      <td>DecisionTreeClassifier</td>\n",
       "      <td>0.781935</td>\n",
       "      <td>0.806452</td>\n",
       "      <td>0.833333</td>\n",
       "      <td>0.789474</td>\n",
       "      <td>0.882353</td>\n",
       "    </tr>\n",
       "    <tr>\n",
       "      <th>5</th>\n",
       "      <td>RandomForestClassifier</td>\n",
       "      <td>0.834839</td>\n",
       "      <td>0.870968</td>\n",
       "      <td>0.888889</td>\n",
       "      <td>0.842105</td>\n",
       "      <td>0.941176</td>\n",
       "    </tr>\n",
       "    <tr>\n",
       "      <th>6</th>\n",
       "      <td>GradientBoostingClassifier</td>\n",
       "      <td>0.824624</td>\n",
       "      <td>0.903226</td>\n",
       "      <td>0.914286</td>\n",
       "      <td>0.888889</td>\n",
       "      <td>0.941176</td>\n",
       "    </tr>\n",
       "  </tbody>\n",
       "</table>\n",
       "</div>"
      ],
      "text/plain": [
       "                        model  cv_score       acc        f1  precision  \\\n",
       "0                         SVC  0.851075  0.903226  0.914286   0.888889   \n",
       "1               XGBClassifier  0.831183  0.838710  0.864865   0.800000   \n",
       "2          LogisticRegression  0.834409  0.903226  0.914286   0.888889   \n",
       "3        KNeighborsClassifier  0.828280  0.806452  0.823529   0.823529   \n",
       "4      DecisionTreeClassifier  0.781935  0.806452  0.833333   0.789474   \n",
       "5      RandomForestClassifier  0.834839  0.870968  0.888889   0.842105   \n",
       "6  GradientBoostingClassifier  0.824624  0.903226  0.914286   0.888889   \n",
       "\n",
       "     recall  \n",
       "0  0.941176  \n",
       "1  0.941176  \n",
       "2  0.941176  \n",
       "3  0.823529  \n",
       "4  0.882353  \n",
       "5  0.941176  \n",
       "6  0.941176  "
      ]
     },
     "execution_count": 6,
     "metadata": {},
     "output_type": "execute_result"
    }
   ],
   "source": [
    "pd.DataFrame(validation(cat_feat, target, models))"
   ]
  },
  {
   "cell_type": "markdown",
   "metadata": {},
   "source": [
    "* numeric features"
   ]
  },
  {
   "cell_type": "code",
   "execution_count": 7,
   "metadata": {},
   "outputs": [
    {
     "data": {
      "text/html": [
       "<div>\n",
       "<style scoped>\n",
       "    .dataframe tbody tr th:only-of-type {\n",
       "        vertical-align: middle;\n",
       "    }\n",
       "\n",
       "    .dataframe tbody tr th {\n",
       "        vertical-align: top;\n",
       "    }\n",
       "\n",
       "    .dataframe thead th {\n",
       "        text-align: right;\n",
       "    }\n",
       "</style>\n",
       "<table border=\"1\" class=\"dataframe\">\n",
       "  <thead>\n",
       "    <tr style=\"text-align: right;\">\n",
       "      <th></th>\n",
       "      <th>model</th>\n",
       "      <th>cv_score</th>\n",
       "      <th>acc</th>\n",
       "      <th>f1</th>\n",
       "      <th>precision</th>\n",
       "      <th>recall</th>\n",
       "    </tr>\n",
       "  </thead>\n",
       "  <tbody>\n",
       "    <tr>\n",
       "      <th>0</th>\n",
       "      <td>SVC</td>\n",
       "      <td>0.735699</td>\n",
       "      <td>0.903226</td>\n",
       "      <td>0.914286</td>\n",
       "      <td>0.888889</td>\n",
       "      <td>0.941176</td>\n",
       "    </tr>\n",
       "    <tr>\n",
       "      <th>1</th>\n",
       "      <td>XGBClassifier</td>\n",
       "      <td>0.646237</td>\n",
       "      <td>0.838710</td>\n",
       "      <td>0.864865</td>\n",
       "      <td>0.800000</td>\n",
       "      <td>0.941176</td>\n",
       "    </tr>\n",
       "    <tr>\n",
       "      <th>2</th>\n",
       "      <td>LogisticRegression</td>\n",
       "      <td>0.729677</td>\n",
       "      <td>0.903226</td>\n",
       "      <td>0.914286</td>\n",
       "      <td>0.888889</td>\n",
       "      <td>0.941176</td>\n",
       "    </tr>\n",
       "    <tr>\n",
       "      <th>3</th>\n",
       "      <td>KNeighborsClassifier</td>\n",
       "      <td>0.669892</td>\n",
       "      <td>0.806452</td>\n",
       "      <td>0.823529</td>\n",
       "      <td>0.823529</td>\n",
       "      <td>0.823529</td>\n",
       "    </tr>\n",
       "    <tr>\n",
       "      <th>4</th>\n",
       "      <td>DecisionTreeClassifier</td>\n",
       "      <td>0.643441</td>\n",
       "      <td>0.741935</td>\n",
       "      <td>0.789474</td>\n",
       "      <td>0.714286</td>\n",
       "      <td>0.882353</td>\n",
       "    </tr>\n",
       "    <tr>\n",
       "      <th>5</th>\n",
       "      <td>RandomForestClassifier</td>\n",
       "      <td>0.699570</td>\n",
       "      <td>0.838710</td>\n",
       "      <td>0.864865</td>\n",
       "      <td>0.800000</td>\n",
       "      <td>0.941176</td>\n",
       "    </tr>\n",
       "    <tr>\n",
       "      <th>6</th>\n",
       "      <td>GradientBoostingClassifier</td>\n",
       "      <td>0.690000</td>\n",
       "      <td>0.903226</td>\n",
       "      <td>0.914286</td>\n",
       "      <td>0.888889</td>\n",
       "      <td>0.941176</td>\n",
       "    </tr>\n",
       "  </tbody>\n",
       "</table>\n",
       "</div>"
      ],
      "text/plain": [
       "                        model  cv_score       acc        f1  precision  \\\n",
       "0                         SVC  0.735699  0.903226  0.914286   0.888889   \n",
       "1               XGBClassifier  0.646237  0.838710  0.864865   0.800000   \n",
       "2          LogisticRegression  0.729677  0.903226  0.914286   0.888889   \n",
       "3        KNeighborsClassifier  0.669892  0.806452  0.823529   0.823529   \n",
       "4      DecisionTreeClassifier  0.643441  0.741935  0.789474   0.714286   \n",
       "5      RandomForestClassifier  0.699570  0.838710  0.864865   0.800000   \n",
       "6  GradientBoostingClassifier  0.690000  0.903226  0.914286   0.888889   \n",
       "\n",
       "     recall  \n",
       "0  0.941176  \n",
       "1  0.941176  \n",
       "2  0.941176  \n",
       "3  0.823529  \n",
       "4  0.882353  \n",
       "5  0.941176  \n",
       "6  0.941176  "
      ]
     },
     "execution_count": 7,
     "metadata": {},
     "output_type": "execute_result"
    }
   ],
   "source": [
    "pd.DataFrame(validation(num_feat, target, models))"
   ]
  },
  {
   "cell_type": "markdown",
   "metadata": {},
   "source": [
    "# Stacking models"
   ]
  },
  {
   "cell_type": "markdown",
   "metadata": {},
   "source": [
    "* simple stacking"
   ]
  },
  {
   "cell_type": "code",
   "execution_count": 8,
   "metadata": {},
   "outputs": [],
   "source": [
    "def train(X, y, models):\n",
    "    \n",
    "    res_model = []\n",
    "    \n",
    "    for model_class in models:\n",
    "        model = model_class()\n",
    "        _ = model.fit(X_train, y_train)\n",
    "        \n",
    "        res_model.append(model)\n",
    "        \n",
    "    return res_model"
   ]
  },
  {
   "cell_type": "code",
   "execution_count": 9,
   "metadata": {},
   "outputs": [],
   "source": [
    "X_train, X_test, y_train, y_test = train_test_split(comb_feat, target, stratify=target, test_size=0.1, random_state=100)"
   ]
  },
  {
   "cell_type": "code",
   "execution_count": 10,
   "metadata": {},
   "outputs": [],
   "source": [
    "models = [SVC, LogisticRegression, GradientBoostingClassifier]"
   ]
  },
  {
   "cell_type": "code",
   "execution_count": 11,
   "metadata": {},
   "outputs": [],
   "source": [
    "base_models = train(X_train, y_train, models)"
   ]
  },
  {
   "cell_type": "code",
   "execution_count": 12,
   "metadata": {},
   "outputs": [],
   "source": [
    "def stack_output(X, models):\n",
    "    res = []\n",
    "    for model in models:\n",
    "        pred = model.predict(X).reshape((-1, 1))\n",
    "        res.append(pred)\n",
    "    return np.hstack(res)\n",
    "\n",
    "def stack_output_v2(X, models):\n",
    "    res = []\n",
    "    for model in models:\n",
    "        pred = model.predict(X).reshape((-1, 1))\n",
    "        res.append(pred)\n",
    "    return np.hstack(res + [X])"
   ]
  },
  {
   "cell_type": "code",
   "execution_count": 13,
   "metadata": {},
   "outputs": [
    {
     "data": {
      "text/plain": [
       "(272, 3)"
      ]
     },
     "execution_count": 13,
     "metadata": {},
     "output_type": "execute_result"
    }
   ],
   "source": [
    "train_out_base = stack_output(X_train, base_models)\n",
    "train_out_base.shape"
   ]
  },
  {
   "cell_type": "code",
   "execution_count": 14,
   "metadata": {},
   "outputs": [],
   "source": [
    "meta_model = SVC()\n",
    "_ = meta_model.fit(train_out_base, y_train)"
   ]
  },
  {
   "cell_type": "code",
   "execution_count": 15,
   "metadata": {},
   "outputs": [
    {
     "data": {
      "text/plain": [
       "array([[1, 1, 1],\n",
       "       [1, 1, 1],\n",
       "       [1, 1, 1],\n",
       "       [1, 1, 1],\n",
       "       [0, 0, 0],\n",
       "       [1, 1, 1],\n",
       "       [0, 0, 0],\n",
       "       [0, 0, 0],\n",
       "       [0, 1, 1],\n",
       "       [0, 0, 0],\n",
       "       [1, 1, 1],\n",
       "       [0, 0, 0],\n",
       "       [0, 0, 0],\n",
       "       [1, 1, 1],\n",
       "       [1, 1, 1],\n",
       "       [0, 0, 0],\n",
       "       [1, 1, 1],\n",
       "       [0, 0, 0],\n",
       "       [1, 1, 1],\n",
       "       [0, 0, 1],\n",
       "       [1, 1, 1],\n",
       "       [0, 0, 0],\n",
       "       [1, 1, 1],\n",
       "       [1, 1, 1],\n",
       "       [0, 0, 0],\n",
       "       [1, 1, 1],\n",
       "       [1, 1, 1],\n",
       "       [1, 1, 1],\n",
       "       [1, 0, 0],\n",
       "       [1, 1, 1],\n",
       "       [0, 0, 0]], dtype=int64)"
      ]
     },
     "execution_count": 15,
     "metadata": {},
     "output_type": "execute_result"
    }
   ],
   "source": [
    "test_out_base = stack_output(X_test, base_models)\n",
    "test_out_base"
   ]
  },
  {
   "cell_type": "code",
   "execution_count": 16,
   "metadata": {},
   "outputs": [
    {
     "data": {
      "text/plain": [
       "0.8709677419354839"
      ]
     },
     "execution_count": 16,
     "metadata": {},
     "output_type": "execute_result"
    }
   ],
   "source": [
    "meta_model.score(test_out_base, y_test)"
   ]
  },
  {
   "cell_type": "markdown",
   "metadata": {},
   "source": [
    "* majority vote"
   ]
  },
  {
   "cell_type": "code",
   "execution_count": 17,
   "metadata": {},
   "outputs": [],
   "source": [
    "res = []\n",
    "\n",
    "for row in test_out_base:\n",
    "    res.append(Counter(row).most_common(1)[0][0])\n",
    "    \n",
    "res = np.array(res).reshape((-1, 1))\n",
    "# res"
   ]
  },
  {
   "cell_type": "code",
   "execution_count": 18,
   "metadata": {},
   "outputs": [
    {
     "data": {
      "text/plain": [
       "0.9032258064516129"
      ]
     },
     "execution_count": 18,
     "metadata": {},
     "output_type": "execute_result"
    },
    {
     "name": "stdout",
     "output_type": "stream",
     "text": [
      "              precision    recall  f1-score   support\n",
      "\n",
      "           0       0.92      0.86      0.89        14\n",
      "           1       0.89      0.94      0.91        17\n",
      "\n",
      "    accuracy                           0.90        31\n",
      "   macro avg       0.91      0.90      0.90        31\n",
      "weighted avg       0.90      0.90      0.90        31\n",
      "\n"
     ]
    },
    {
     "data": {
      "text/plain": [
       "array([[12,  2],\n",
       "       [ 1, 16]], dtype=int64)"
      ]
     },
     "execution_count": 18,
     "metadata": {},
     "output_type": "execute_result"
    }
   ],
   "source": [
    "accuracy_score(y_test, res)\n",
    "print(classification_report(y_test, res))\n",
    "confusion_matrix(y_test, res)"
   ]
  },
  {
   "cell_type": "markdown",
   "metadata": {},
   "source": [
    "* 3 meta and majorityy vote"
   ]
  },
  {
   "cell_type": "code",
   "execution_count": 19,
   "metadata": {},
   "outputs": [],
   "source": [
    "models = [SVC, LogisticRegression, GradientBoostingClassifier]"
   ]
  },
  {
   "cell_type": "code",
   "execution_count": 20,
   "metadata": {},
   "outputs": [],
   "source": [
    "base_models = train(X_train, y_train, models)"
   ]
  },
  {
   "cell_type": "code",
   "execution_count": 21,
   "metadata": {},
   "outputs": [
    {
     "data": {
      "text/plain": [
       "(272, 3)"
      ]
     },
     "execution_count": 21,
     "metadata": {},
     "output_type": "execute_result"
    },
    {
     "data": {
      "text/plain": [
       "(272, 124)"
      ]
     },
     "execution_count": 21,
     "metadata": {},
     "output_type": "execute_result"
    }
   ],
   "source": [
    "train_out_base1 = stack_output(X_train, base_models)\n",
    "train_out_base1.shape\n",
    "\n",
    "train_out_base2 = stack_output_v2(X_train, base_models)\n",
    "train_out_base2.shape"
   ]
  },
  {
   "cell_type": "code",
   "execution_count": 22,
   "metadata": {},
   "outputs": [
    {
     "data": {
      "text/plain": [
       "(31, 3)"
      ]
     },
     "execution_count": 22,
     "metadata": {},
     "output_type": "execute_result"
    },
    {
     "data": {
      "text/plain": [
       "(31, 124)"
      ]
     },
     "execution_count": 22,
     "metadata": {},
     "output_type": "execute_result"
    }
   ],
   "source": [
    "test_out_base1 = stack_output(X_test, base_models)\n",
    "test_out_base1.shape\n",
    "\n",
    "test_out_base2 = stack_output_v2(X_test, base_models)\n",
    "test_out_base2.shape"
   ]
  },
  {
   "cell_type": "code",
   "execution_count": 23,
   "metadata": {},
   "outputs": [
    {
     "data": {
      "text/plain": [
       "0.9032258064516129"
      ]
     },
     "execution_count": 23,
     "metadata": {},
     "output_type": "execute_result"
    },
    {
     "data": {
      "text/plain": [
       "0.9032258064516129"
      ]
     },
     "execution_count": 23,
     "metadata": {},
     "output_type": "execute_result"
    },
    {
     "data": {
      "text/plain": [
       "0.9032258064516129"
      ]
     },
     "execution_count": 23,
     "metadata": {},
     "output_type": "execute_result"
    }
   ],
   "source": [
    "meta_model1 = SVC()\n",
    "meta_model2 = SVC()\n",
    "meta_model3 = SVC()\n",
    "\n",
    "_ = meta_model1.fit(train_out_base1, y_train)\n",
    "_ = meta_model2.fit(train_out_base2, y_train)\n",
    "_ = meta_model3.fit(X_train, y_train)\n",
    "\n",
    "meta_model1.score(test_out_base1, y_test)\n",
    "meta_model2.score(test_out_base2, y_test)\n",
    "meta_model3.score(X_test, y_test)\n",
    "\n",
    "pred1 = meta_model1.predict(test_out_base1).reshape((-1, 1))\n",
    "pred2 = meta_model2.predict(test_out_base2).reshape((-1, 1))\n",
    "pred3 = meta_model3.predict(X_test).reshape((-1, 1))\n",
    "\n",
    "pred = np.hstack([pred1, pred2, pred3])"
   ]
  },
  {
   "cell_type": "code",
   "execution_count": 24,
   "metadata": {},
   "outputs": [],
   "source": [
    "res = []\n",
    "\n",
    "for row in pred:\n",
    "    res.append(Counter(row).most_common(1)[0][0])\n",
    "    \n",
    "res = np.array(res).reshape((-1, 1))\n",
    "# res"
   ]
  },
  {
   "cell_type": "code",
   "execution_count": 25,
   "metadata": {},
   "outputs": [
    {
     "data": {
      "text/plain": [
       "0.9032258064516129"
      ]
     },
     "execution_count": 25,
     "metadata": {},
     "output_type": "execute_result"
    },
    {
     "name": "stdout",
     "output_type": "stream",
     "text": [
      "              precision    recall  f1-score   support\n",
      "\n",
      "           0       0.92      0.86      0.89        14\n",
      "           1       0.89      0.94      0.91        17\n",
      "\n",
      "    accuracy                           0.90        31\n",
      "   macro avg       0.91      0.90      0.90        31\n",
      "weighted avg       0.90      0.90      0.90        31\n",
      "\n"
     ]
    },
    {
     "data": {
      "text/plain": [
       "array([[12,  2],\n",
       "       [ 1, 16]], dtype=int64)"
      ]
     },
     "execution_count": 25,
     "metadata": {},
     "output_type": "execute_result"
    }
   ],
   "source": [
    "accuracy_score(y_test, res)\n",
    "print(classification_report(y_test, res))\n",
    "confusion_matrix(y_test, res)"
   ]
  },
  {
   "cell_type": "code",
   "execution_count": null,
   "metadata": {},
   "outputs": [],
   "source": []
  }
 ],
 "metadata": {
  "kernelspec": {
   "display_name": "Python 3",
   "language": "python",
   "name": "python3"
  },
  "language_info": {
   "codemirror_mode": {
    "name": "ipython",
    "version": 3
   },
   "file_extension": ".py",
   "mimetype": "text/x-python",
   "name": "python",
   "nbconvert_exporter": "python",
   "pygments_lexer": "ipython3",
   "version": "3.7.6"
  }
 },
 "nbformat": 4,
 "nbformat_minor": 4
}
